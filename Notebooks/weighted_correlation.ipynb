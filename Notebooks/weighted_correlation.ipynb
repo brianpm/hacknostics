{
 "cells": [
  {
   "cell_type": "code",
   "execution_count": 1,
   "metadata": {},
   "outputs": [],
   "source": [
    "import xarray as xr\n",
    "import numpy as np\n",
    "from time import perf_counter\n",
    "from pathlib import Path\n",
    "\n",
    "import xskillscore as xss"
   ]
  },
  {
   "cell_type": "code",
   "execution_count": 2,
   "metadata": {},
   "outputs": [],
   "source": [
    "def _weighted_corr(x, y, w, dim=None):\n",
    "    # example explanation: https://stats.stackexchange.com/questions/221246/such-thing-as-a-weighted-correlation\n",
    "    # NOTE: this function has an error.\n",
    "    # It follows the correct math, but produces incorrect results. \n",
    "    # I think this must be something not behaving as I expect with\n",
    "    # Xarray's `weighted` class. \n",
    "    xw = x.weighted(w)\n",
    "    yw = y.weighted(y)\n",
    "    # weighted mean:\n",
    "    xm = xw.mean(dim=dim)\n",
    "    ym = yw.mean(dim=dim)\n",
    "    # weighted variance:\n",
    "    xv = xw.var(dim=dim)\n",
    "    yv = yw.var(dim=dim)\n",
    "    # weighted covariance:\n",
    "    devx = x - xm\n",
    "    devy = y - ym\n",
    "    devxy = devx * devy\n",
    "    covxy = devxy.weighted(w).mean(dim=dim)\n",
    "    denom = np.sqrt(xv * yv)\n",
    "    return covxy / denom\n"
   ]
  },
  {
   "cell_type": "code",
   "execution_count": 3,
   "metadata": {},
   "outputs": [],
   "source": [
    "def _weighted_corr_xss(x, y, w, dim=None):\n",
    "    return xss.pearson_r(x, y, dim=dim, weights=w, skipna=True, keep_attrs=True)\n",
    "\n"
   ]
  },
  {
   "cell_type": "code",
   "execution_count": 4,
   "metadata": {},
   "outputs": [],
   "source": [
    "baseloc = Path(\"/glade/scratch/brianpm/cam_diag_climo/files\")\n",
    "case1loc = baseloc / \"b.e20.BHIST.f09_g17.20thC.297_05\"\n",
    "case2loc = baseloc / \"b.e20.BHIST.f09_g16.20thC.125.02\"\n",
    "varlist = [\"CLDLIQ\", \"LWCF\", \"PS\"]"
   ]
  },
  {
   "cell_type": "code",
   "execution_count": 29,
   "metadata": {},
   "outputs": [
    {
     "name": "stdout",
     "output_type": "stream",
     "text": [
      "Input shape of CLDLIQ: (12, 32, 192, 288)\n",
      "Correlation calculation took 2.6723395637236536 seconds.\n",
      "Correlation output shape: (12, 32) --- Max correlation: inf, Min correlation: -inf\n",
      "XCorrelation calculation took 2.476666236296296 seconds.\n",
      "XCorrelation output shape: (12, 32) --- Max correlation: 0.9549578481704152, Min correlation: -0.010545818459770005\n",
      "Input shape of LWCF: (12, 192, 288)\n",
      "Correlation calculation took 0.07073515094816685 seconds.\n",
      "Correlation output shape: (12,) --- Max correlation: 0.9127461135744436, Min correlation: 0.8170271443060588\n",
      "XCorrelation calculation took 0.05532099027186632 seconds.\n",
      "XCorrelation output shape: (12,) --- Max correlation: 0.9683857074238917, Min correlation: 0.9386151870414404\n",
      "Input shape of PS: (12, 192, 288)\n",
      "Correlation calculation took 0.06826743390411139 seconds.\n",
      "Correlation output shape: (12,) --- Max correlation: 0.7957456042825333, Min correlation: 0.7850279916325452\n",
      "XCorrelation calculation took 0.05228321626782417 seconds.\n",
      "XCorrelation output shape: (12,) --- Max correlation: 0.9998445468509739, Min correlation: 0.9995423886556702\n",
      "CPU times: user 3.51 s, sys: 1.96 s, total: 5.47 s\n",
      "Wall time: 5.66 s\n"
     ]
    }
   ],
   "source": [
    "%%time\n",
    "for v in varlist:\n",
    "    ds1 = xr.open_dataset(list(case1loc.glob(f\"*_{v}_*\"))[0])\n",
    "    ds2 = xr.open_dataset(list(case2loc.glob(f\"*_{v}_*\"))[0])\n",
    "    x1 = ds1[v]\n",
    "    x2 = ds2[v]\n",
    "    assert x1.shape == x2.shape, f\"Shapes don't match: {x1.shape} vs. {x2.shape}\"\n",
    "    print(f\"Input shape of {v}: {x1.shape}\")\n",
    "    lat = x1.lat\n",
    "    coslat = np.cos(np.radians(lat))\n",
    "    starttime = perf_counter()\n",
    "    correlation = _weighted_corr(x1, x2, coslat, dim=(\"lat\",\"lon\"))\n",
    "    print(f\"Correlation calculation took {perf_counter()-starttime} seconds.\")\n",
    "    print(f\"Correlation output shape: {correlation.shape} --- Max correlation: {correlation.max().item()}, Min correlation: {correlation.min().item()}\")\n",
    "    # Xskillscore\n",
    "    starttime = perf_counter()\n",
    "    x1dims = x1.dims\n",
    "    excludedims = list(set(x1dims).difference([\"lat\",\"lon\"]))\n",
    "    xwgt = coslat.broadcast_like(x1, exclude=excludedims)\n",
    "    xcorr = _weighted_corr_xss(x1, x2, xwgt, dim=[\"lat\",\"lon\"])\n",
    "    print(f\"XCorrelation calculation took {perf_counter()-starttime} seconds.\")\n",
    "    print(f\"XCorrelation output shape: {xcorr.shape} --- Max correlation: {xcorr.max().item()}, Min correlation: {xcorr.min().item()}\")\n",
    "\n",
    "\n",
    "    # print(correlation)\n"
   ]
  },
  {
   "cell_type": "code",
   "execution_count": 24,
   "metadata": {},
   "outputs": [
    {
     "name": "stdout",
     "output_type": "stream",
     "text": [
      "['time', 'lev']\n"
     ]
    }
   ],
   "source": [
    "\n",
    "\n"
   ]
  },
  {
   "cell_type": "code",
   "execution_count": 21,
   "metadata": {},
   "outputs": [
    {
     "data": {
      "text/plain": [
       "['lev', 'time']"
      ]
     },
     "execution_count": 21,
     "metadata": {},
     "output_type": "execute_result"
    }
   ],
   "source": [
    "excl"
   ]
  },
  {
   "cell_type": "code",
   "execution_count": 12,
   "metadata": {},
   "outputs": [
    {
     "name": "stdout",
     "output_type": "stream",
     "text": [
      "Proceed\n"
     ]
    }
   ],
   "source": [
    "s1 = set([\"a\", \"c\", \"w\"]) # required variables\n",
    "s2 = set([\"z\", \"x\", \"y\", \"a\", \"b\", \"c\"]) # e.g. all variables\n",
    "\n",
    "if s1.issubset(s2):\n",
    "    print(f\"You don't have all the data: missing {s1-s2}\")\n",
    "else:\n",
    "    print(\"Proceed\")"
   ]
  },
  {
   "cell_type": "code",
   "execution_count": null,
   "metadata": {},
   "outputs": [],
   "source": []
  }
 ],
 "metadata": {
  "kernelspec": {
   "display_name": "Python 3.9.12 ('camdiag')",
   "language": "python",
   "name": "python3"
  },
  "language_info": {
   "codemirror_mode": {
    "name": "ipython",
    "version": 3
   },
   "file_extension": ".py",
   "mimetype": "text/x-python",
   "name": "python",
   "nbconvert_exporter": "python",
   "pygments_lexer": "ipython3",
   "version": "3.9.12"
  },
  "orig_nbformat": 4,
  "vscode": {
   "interpreter": {
    "hash": "87fe33ccd84c02ae221f427b5a8d161a1cfa43b07023512759b2169e9115f4d8"
   }
  }
 },
 "nbformat": 4,
 "nbformat_minor": 2
}
