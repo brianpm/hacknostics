{
 "cells": [
  {
   "cell_type": "markdown",
   "metadata": {},
   "source": [
    "# Metadata Decorator\n",
    "\n",
    "*PROBLEM*\n",
    "Sometimes we have to use functions that remove the xr metadata and return plain numpy arrays, but we still want that meta data for further computation.\n",
    "\n",
    "*GOAL*\n",
    "Construct a decorator that replaces numpy array with a DataArray by trying to copy matching metadata from the input.\n",
    "\n",
    "*STATUS*\n",
    "The example below creates a decorator that checks if the shape of the numpy array matches any of the input arrays, and if so it copies the coordinates. This works, but is limited. _TODO:_ Construct a dict that will match each dimension shape to an input shape, and therefore allow changes in shape within reason to be labeled on ouput."
   ]
  },
  {
   "cell_type": "code",
   "execution_count": 1,
   "metadata": {},
   "outputs": [],
   "source": [
    "import xarray as xr\n",
    "import numpy as np"
   ]
  },
  {
   "cell_type": "code",
   "execution_count": 22,
   "metadata": {},
   "outputs": [],
   "source": [
    "ds = xr.open_dataset(\"/Users/brianpm/Dropbox/Data/CERES/CERES_EBAF-TOA_Edition4.0_200003-201810.nc\")\n",
    "# print(ds.data_vars)"
   ]
  },
  {
   "cell_type": "code",
   "execution_count": 8,
   "metadata": {},
   "outputs": [
    {
     "name": "stdout",
     "output_type": "stream",
     "text": [
      "<xarray.DataArray 'toa_sw_all_mon' (time: 224, lat: 180, lon: 360)>\n",
      "[14515200 values with dtype=float32]\n",
      "Coordinates:\n",
      "  * lon      (lon) float32 0.5 1.5 2.5 3.5 4.5 ... 355.5 356.5 357.5 358.5 359.5\n",
      "  * lat      (lat) float32 -89.5 -88.5 -87.5 -86.5 -85.5 ... 86.5 87.5 88.5 89.5\n",
      "  * time     (time) datetime64[ns] 2000-03-15 2000-04-15 ... 2018-10-15\n",
      "Attributes:\n",
      "    long_name:      Top of The Atmosphere Shortwave Flux, Monthly Means, All-...\n",
      "    standard_name:  TOA Shortwave Flux - All-Sky\n",
      "    CF_name:        toa_outgoing_shortwave_flux\n",
      "    units:          W m-2\n",
      "    valid_min:            0.00000\n",
      "    valid_max:            600.000\n",
      "<xarray.DataArray 'solar_mon' (time: 224, lat: 180, lon: 360)>\n",
      "[14515200 values with dtype=float32]\n",
      "Coordinates:\n",
      "  * lon      (lon) float32 0.5 1.5 2.5 3.5 4.5 ... 355.5 356.5 357.5 358.5 359.5\n",
      "  * lat      (lat) float32 -89.5 -88.5 -87.5 -86.5 -85.5 ... 86.5 87.5 88.5 89.5\n",
      "  * time     (time) datetime64[ns] 2000-03-15 2000-04-15 ... 2018-10-15\n",
      "Attributes:\n",
      "    long_name:      Incoming Solar Flux, Monthly Means\n",
      "    standard_name:  Incoming Solar Flux\n",
      "    CF_name:        toa_incoming_shortwave_flux\n",
      "    units:          W m-2\n",
      "    valid_min:            0.00000\n",
      "    valid_max:            800.000\n"
     ]
    }
   ],
   "source": [
    "x = ds['toa_sw_all_mon']\n",
    "print(x)\n",
    "sol = ds['solar_mon']\n",
    "print(sol)"
   ]
  },
  {
   "cell_type": "code",
   "execution_count": 10,
   "metadata": {},
   "outputs": [],
   "source": [
    "# super simple might be to mask any regions that are in polar night (for the whole month)\n",
    "lit = np.where(sol > 0.0, x, np.nan)\n",
    "print(lit)  # plain numpy"
   ]
  },
  {
   "cell_type": "code",
   "execution_count": 19,
   "metadata": {},
   "outputs": [],
   "source": [
    "# now design a decorator that goes around a function that gets metadata\n",
    "def wrap(func):\n",
    "    def wrapper(*args, **kwargs):\n",
    "        result = func(*args, **kwargs)\n",
    "        out_shape = result.shape\n",
    "        for a in args:\n",
    "            if hasattr(a, 'coords'):\n",
    "                if a.shape == result.shape:\n",
    "                    return xr.DataArray(result, coords=a.coords)\n",
    "        print(\"Output shape does not match any input shape. No meta data copied.\")\n",
    "        return result\n",
    "    return wrapper\n"
   ]
  },
  {
   "cell_type": "code",
   "execution_count": 20,
   "metadata": {},
   "outputs": [],
   "source": [
    "@wrap\n",
    "def masker(data, light):\n",
    "    return np.where(light > 0.0, data, np.nan)"
   ]
  },
  {
   "cell_type": "code",
   "execution_count": 21,
   "metadata": {},
   "outputs": [
    {
     "data": {
      "text/plain": [
       "<xarray.DataArray (time: 224, lat: 180, lon: 360)>\n",
       "array([[[ 43.85 ,  43.85 , ...,  43.85 ,  43.85 ],\n",
       "        [ 43.66 ,  43.66 , ...,  43.66 ,  43.66 ],\n",
       "        ...,\n",
       "        [ 16.94 ,  16.94 , ...,  16.94 ,  16.94 ],\n",
       "        [ 17.78 ,  17.78 , ...,  17.78 ,  17.78 ]],\n",
       "\n",
       "       [[    nan,     nan, ...,     nan,     nan],\n",
       "        [    nan,     nan, ...,     nan,     nan],\n",
       "        ...,\n",
       "        [148.8  , 148.8  , ..., 148.8  , 148.8  ],\n",
       "        [150.1  , 150.1  , ..., 150.1  , 150.1  ]],\n",
       "\n",
       "       ...,\n",
       "\n",
       "       [[ 11.1  ,  11.1  , ...,  11.1  ,  11.1  ],\n",
       "        [  9.739,   9.739, ...,   9.739,   9.739],\n",
       "        ...,\n",
       "        [ 50.21 ,  50.21 , ...,  50.21 ,  50.21 ],\n",
       "        [ 49.54 ,  49.54 , ...,  49.54 ,  49.54 ]],\n",
       "\n",
       "       [[156.5  , 156.5  , ..., 156.5  , 156.5  ],\n",
       "        [149.4  , 149.4  , ..., 149.4  , 149.4  ],\n",
       "        ...,\n",
       "        [    nan,     nan, ...,     nan,     nan],\n",
       "        [    nan,     nan, ...,     nan,     nan]]], dtype=float32)\n",
       "Coordinates:\n",
       "  * lon      (lon) float32 0.5 1.5 2.5 3.5 4.5 ... 355.5 356.5 357.5 358.5 359.5\n",
       "  * lat      (lat) float32 -89.5 -88.5 -87.5 -86.5 -85.5 ... 86.5 87.5 88.5 89.5\n",
       "  * time     (time) datetime64[ns] 2000-03-15 2000-04-15 ... 2018-10-15"
      ]
     },
     "execution_count": 21,
     "metadata": {},
     "output_type": "execute_result"
    }
   ],
   "source": [
    "masker(x, sol)"
   ]
  }
 ],
 "metadata": {
  "kernelspec": {
   "display_name": "Python 3",
   "language": "python",
   "name": "python3"
  },
  "language_info": {
   "codemirror_mode": {
    "name": "ipython",
    "version": 3
   },
   "file_extension": ".py",
   "mimetype": "text/x-python",
   "name": "python",
   "nbconvert_exporter": "python",
   "pygments_lexer": "ipython3",
   "version": "3.7.3"
  }
 },
 "nbformat": 4,
 "nbformat_minor": 2
}
