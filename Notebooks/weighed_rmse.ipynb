{
 "cells": [
  {
   "cell_type": "markdown",
   "id": "a106215c-9a19-4640-b181-242a7689bd04",
   "metadata": {},
   "source": [
    "# Weighted RMSE for spatial fields\n",
    "\n",
    "We are often interested in measuring the difference between two spatial fields. These could be a model run and observations, or perhaps a model experiment versus a reference solution. This notebook shows how to implement an area-weighted root mean square error (RMSE). We will assume that the fields are 2-d (e.g., lat, lon) and that the weights are 1-d (e.g., cos(lat)). \n",
    "\n",
    "The RMSE is the square root of the MSE. The weighted MSE can be expressed\n",
    "\n",
    "$$\n",
    "\\mathrm{MSE} = \\sum_i w_i \\left( (\\hat{f_i} - f_i)^2 \\right)\n",
    "$$\n",
    "\n",
    "where $w_i$ are the _normalized_ weights, $\\hat{f_i}$ is the field estimate and $f_i$ is the reference or expected value. Of course, since squaring the difference makes it positive definite, the order of the difference does not matter. The subscript $i$ indicates all the points; when we apply the formula these are all 2-dimensional fields, but we just use a single index. One important note is that we are applying the weight to the difference of the fields, and _not_ to the fields individually. \n",
    "\n",
    "Then the RMSE is just\n",
    "$$ \\mathrm{RMSE} = \\sqrt{\\mathrm{MSE}} $$\n",
    "\n",
    "If the weights are not normalized (i.e., $\\sum_i w_i \\ne 1$), the MSE expression should be divided by the sum of the weights."
   ]
  },
  {
   "cell_type": "code",
   "execution_count": 1,
   "id": "1226eed2-d226-474f-9790-7086de5da134",
   "metadata": {},
   "outputs": [],
   "source": [
    "import numpy as np\n",
    "import xarray as xr"
   ]
  },
  {
   "cell_type": "code",
   "execution_count": 12,
   "id": "53771de6-daa3-46fa-9337-2e32eaa6b5b2",
   "metadata": {},
   "outputs": [],
   "source": [
    "## example data\n",
    "lat = np.linspace(-90, 90, 91)\n",
    "lat = xr.DataArray(lat, dims=[\"lat\"], coords={\"lat\":lat}, attrs={\"name\":\"lat\", \"long_name\":\"latitude\", \"units\":\"degrees_north\"})\n",
    "lon = np.linspace(0,358,180)\n",
    "lon = xr.DataArray(lon, dims=[\"lon\"], coords={\"lon\":lon}, attrs={\"name\":\"lon\", \"long_name\":\"longitude\", \"units\":\"degrees_east\"})"
   ]
  },
  {
   "cell_type": "code",
   "execution_count": 14,
   "id": "70cf7b50-d275-495c-bedc-7dcfeca1d01b",
   "metadata": {},
   "outputs": [],
   "source": [
    "fld1 = np.random.random((len(lat),len(lon)))\n",
    "fld1 = xr.DataArray(fld1, dims=[\"lat\",\"lon\"], coords={\"lat\":lat, \"lon\":lon})"
   ]
  },
  {
   "cell_type": "code",
   "execution_count": 16,
   "id": "ac0912e5-abfc-4b58-b77b-874f2ea935f8",
   "metadata": {},
   "outputs": [],
   "source": [
    "fld2 = np.random.random((len(lat),len(lon)))\n",
    "fld2 = xr.DataArray(fld2, dims=[\"lat\",\"lon\"], coords={\"lat\":lat, \"lon\":lon})"
   ]
  },
  {
   "cell_type": "code",
   "execution_count": 17,
   "id": "8c025bd9-0b5d-446d-8fee-f36b75be44a1",
   "metadata": {},
   "outputs": [],
   "source": [
    "wgt = np.cos(np.radians(lat))"
   ]
  },
  {
   "cell_type": "code",
   "execution_count": 18,
   "id": "ecae2e7a-f94c-4394-b889-11a7175ca407",
   "metadata": {},
   "outputs": [],
   "source": [
    "# RMSE \n",
    "# = np.sqrt( MSE )\n",
    "# MSE = MEAN( (A_i - E_i(A))**2) where E(A) is the expectation or the truth or reference value and i is index over all points\n",
    "\n",
    "# For a weighted version, just make MEAN be the weighted mean:\n",
    "# wMSE = wMEAN( (A_i - E_i(A))**2 ) = SUM( w_i * (A_i - E_i(A))**2 ) / SUM(w_i)\n"
   ]
  },
  {
   "cell_type": "code",
   "execution_count": 70,
   "id": "1d41d2eb-0fec-40ba-b446-4d7dc76f5704",
   "metadata": {},
   "outputs": [],
   "source": [
    "def wgt_rmse(fld1, fld2, wgt):\n",
    "    \"\"\"Calculated the area-weighted RMSE. \n",
    "    \n",
    "    Inputs are 2-d spatial fields, fld1 and fld2 with the same shape.\n",
    "    They can be xarray DataArray or numpy arrays.\n",
    "    \n",
    "    Input wgt is the weight vector, expected to be 1-d, matching length of one dimension of the data.\n",
    "    \n",
    "    Returns a single float value.\n",
    "    \"\"\"\n",
    "    assert len(fld1.shape) == 2\n",
    "    assert fld1.shape == fld2.shape\n",
    "    if isinstance(fld1, xr.DataArray) and isinstance(fld2, xr.DataArray):\n",
    "        return (np.sqrt(((fld1 - fld2)**2).weighted(wgt).mean())).values.item()\n",
    "    else:\n",
    "        check = [len(wgt) == s for s in fld1.shape]\n",
    "        if ~np.any(check):\n",
    "            raise IOError(f\"Sorry, weight array has shape {wgt.shape} which is not compatible with data of shape {fld1.shape}\")\n",
    "        check = [len(wgt) != s for s in fld1.shape]\n",
    "        dimsize = fld1.shape[np.argwhere(check).item()]  # want to get the dimension length for the dim that does not match the size of wgt\n",
    "        warray = np.tile(wgt, (dimsize, 1)).transpose()   # May need more logic to ensure shape is correct.\n",
    "        warray = warray / np.sum(warray) # normalize\n",
    "        wmse = np.sum(warray * (fld1 - fld2)**2)\n",
    "        return np.sqrt( wmse ).item()"
   ]
  },
  {
   "cell_type": "code",
   "execution_count": 75,
   "id": "222aa5e8-e59d-45ce-821d-0b42f395aa96",
   "metadata": {},
   "outputs": [
    {
     "name": "stdout",
     "output_type": "stream",
     "text": [
      "Xarray DataArray input: 0.4109429010580385\n",
      "Numpy array input: 0.4109429010580347\n"
     ]
    }
   ],
   "source": [
    "## XARRAY VERSION\n",
    "print(f\"Xarray DataArray input: {wgt_rmse(fld1, fld2, wgt)}\")\n",
    "## NUMPY\n",
    "print(f\"Numpy array input: {wgt_rmse(fld1.values, fld2.values, wgt)}\")"
   ]
  },
  {
   "cell_type": "code",
   "execution_count": null,
   "id": "21be6f1a-1ac2-4931-a2a5-3be3a4989642",
   "metadata": {},
   "outputs": [],
   "source": []
  }
 ],
 "metadata": {
  "kernelspec": {
   "display_name": "py39",
   "language": "python",
   "name": "py39"
  },
  "language_info": {
   "codemirror_mode": {
    "name": "ipython",
    "version": 3
   },
   "file_extension": ".py",
   "mimetype": "text/x-python",
   "name": "python",
   "nbconvert_exporter": "python",
   "pygments_lexer": "ipython3",
   "version": "3.9.4"
  }
 },
 "nbformat": 4,
 "nbformat_minor": 5
}
