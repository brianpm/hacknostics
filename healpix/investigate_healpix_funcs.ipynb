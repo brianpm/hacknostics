{
 "cells": [
  {
   "cell_type": "code",
   "execution_count": 8,
   "id": "b3f00aff",
   "metadata": {},
   "outputs": [],
   "source": [
    "import numpy as np\n",
    "import healpy as hp"
   ]
  },
  {
   "cell_type": "code",
   "execution_count": 30,
   "id": "904df7d5",
   "metadata": {},
   "outputs": [
    {
     "name": "stdout",
     "output_type": "stream",
     "text": [
      "Approximate resolution at NSIDE 4 is 14.66 deg\n",
      "192\n"
     ]
    }
   ],
   "source": [
    "\n",
    "NSIDE = 4\n",
    "NPIX = hp.nside2npix(NSIDE)\n",
    "print(f\"Approximate resolution at NSIDE {NSIDE} is {hp.nside2resol(NSIDE, arcmin=True) / 60:4.2f} deg\")\n",
    "print(NPIX)\n",
    "ipix = np.arange(NPIX)\n",
    "theta, phi = hp.pixelfunc.pix2ang(NSIDE, ipix, nest=True, lonlat=True)\n",
    "\n",
    "# m = np.arange(NPIX)\n",
    "# hp.mollview(m, nest=True, title=\"Mollview image NEST\")\n",
    "# hp.graticule()"
   ]
  },
  {
   "cell_type": "code",
   "execution_count": 28,
   "id": "2fafc697",
   "metadata": {},
   "outputs": [
    {
     "name": "stdout",
     "output_type": "stream",
     "text": [
      "THETA: 0.0, 348.74999999999994, PHI: -78.28414760510762, 78.28414760510762\n"
     ]
    }
   ],
   "source": [
    "print(f\"THETA: {theta.min()}, {theta.max()}, PHI: {phi.min()}, {phi.max()}\")"
   ]
  },
  {
   "cell_type": "code",
   "execution_count": 32,
   "id": "50423537",
   "metadata": {},
   "outputs": [
    {
     "name": "stdout",
     "output_type": "stream",
     "text": [
      "\u001b[31mSignature:\u001b[39m       np.stack(arrays, axis=\u001b[32m0\u001b[39m, out=\u001b[38;5;28;01mNone\u001b[39;00m, *, dtype=\u001b[38;5;28;01mNone\u001b[39;00m, casting=\u001b[33m'same_kind'\u001b[39m)\n",
      "\u001b[31mCall signature:\u001b[39m  np.stack(*args, **kwargs)\n",
      "\u001b[31mType:\u001b[39m            _ArrayFunctionDispatcher\n",
      "\u001b[31mString form:\u001b[39m     <function stack at 0x7f9825c3f740>\n",
      "\u001b[31mFile:\u001b[39m            ~/miniconda3/envs/p12/lib/python3.12/site-packages/numpy/_core/shape_base.py\n",
      "\u001b[31mDocstring:\u001b[39m      \n",
      "Join a sequence of arrays along a new axis.\n",
      "\n",
      "The ``axis`` parameter specifies the index of the new axis in the\n",
      "dimensions of the result. For example, if ``axis=0`` it will be the first\n",
      "dimension and if ``axis=-1`` it will be the last dimension.\n",
      "\n",
      ".. versionadded:: 1.10.0\n",
      "\n",
      "Parameters\n",
      "----------\n",
      "arrays : sequence of array_like\n",
      "    Each array must have the same shape.\n",
      "\n",
      "axis : int, optional\n",
      "    The axis in the result array along which the input arrays are stacked.\n",
      "\n",
      "out : ndarray, optional\n",
      "    If provided, the destination to place the result. The shape must be\n",
      "    correct, matching that of what stack would have returned if no\n",
      "    out argument were specified.\n",
      "\n",
      "dtype : str or dtype\n",
      "    If provided, the destination array will have this dtype. Cannot be\n",
      "    provided together with `out`.\n",
      "\n",
      "    .. versionadded:: 1.24\n",
      "\n",
      "casting : {'no', 'equiv', 'safe', 'same_kind', 'unsafe'}, optional\n",
      "    Controls what kind of data casting may occur. Defaults to 'same_kind'.\n",
      "\n",
      "    .. versionadded:: 1.24\n",
      "\n",
      "\n",
      "Returns\n",
      "-------\n",
      "stacked : ndarray\n",
      "    The stacked array has one more dimension than the input arrays.\n",
      "\n",
      "See Also\n",
      "--------\n",
      "concatenate : Join a sequence of arrays along an existing axis.\n",
      "block : Assemble an nd-array from nested lists of blocks.\n",
      "split : Split array into a list of multiple sub-arrays of equal size.\n",
      "unstack : Split an array into a tuple of sub-arrays along an axis.\n",
      "\n",
      "Examples\n",
      "--------\n",
      ">>> import numpy as np\n",
      ">>> rng = np.random.default_rng()\n",
      ">>> arrays = [rng.normal(size=(3,4)) for _ in range(10)]\n",
      ">>> np.stack(arrays, axis=0).shape\n",
      "(10, 3, 4)\n",
      "\n",
      ">>> np.stack(arrays, axis=1).shape\n",
      "(3, 10, 4)\n",
      "\n",
      ">>> np.stack(arrays, axis=2).shape\n",
      "(3, 4, 10)\n",
      "\n",
      ">>> a = np.array([1, 2, 3])\n",
      ">>> b = np.array([4, 5, 6])\n",
      ">>> np.stack((a, b))\n",
      "array([[1, 2, 3],\n",
      "       [4, 5, 6]])\n",
      "\n",
      ">>> np.stack((a, b), axis=-1)\n",
      "array([[1, 4],\n",
      "       [2, 5],\n",
      "       [3, 6]])\n",
      "\u001b[31mClass docstring:\u001b[39m\n",
      "Class to wrap functions with checks for __array_function__ overrides.\n",
      "\n",
      "All arguments are required, and can only be passed by position.\n",
      "\n",
      "Parameters\n",
      "----------\n",
      "dispatcher : function or None\n",
      "    The dispatcher function that returns a single sequence-like object\n",
      "    of all arguments relevant.  It must have the same signature (except\n",
      "    the default values) as the actual implementation.\n",
      "    If ``None``, this is a ``like=`` dispatcher and the\n",
      "    ``_ArrayFunctionDispatcher`` must be called with ``like`` as the\n",
      "    first (additional and positional) argument.\n",
      "implementation : function\n",
      "    Function that implements the operation on NumPy arrays without\n",
      "    overrides.  Arguments passed calling the ``_ArrayFunctionDispatcher``\n",
      "    will be forwarded to this (and the ``dispatcher``) as if using\n",
      "    ``*args, **kwargs``.\n",
      "\n",
      "Attributes\n",
      "----------\n",
      "_implementation : function\n",
      "    The original implementation passed in."
     ]
    }
   ],
   "source": [
    "np.stack?"
   ]
  }
 ],
 "metadata": {
  "kernelspec": {
   "display_name": "p12",
   "language": "python",
   "name": "python3"
  },
  "language_info": {
   "codemirror_mode": {
    "name": "ipython",
    "version": 3
   },
   "file_extension": ".py",
   "mimetype": "text/x-python",
   "name": "python",
   "nbconvert_exporter": "python",
   "pygments_lexer": "ipython3",
   "version": "3.12.3"
  }
 },
 "nbformat": 4,
 "nbformat_minor": 5
}
