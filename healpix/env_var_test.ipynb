{
 "cells": [
  {
   "cell_type": "code",
   "execution_count": 1,
   "metadata": {},
   "outputs": [],
   "source": [
    "import sys\n",
    "from pathlib import Path\n",
    "\n",
    "import numpy as np\n",
    "import pandas as pd\n",
    "import xarray as xr\n",
    "\n",
    "import healpix as hp\n",
    "\n",
    "import easygems\n",
    "import easygems.remap as egr\n",
    "import easygems.healpix as egh\n",
    "\n",
    "import dask\n",
    "import dask.array as da\n",
    "\n",
    "import zarr\n",
    "\n",
    "import shutil\n"
   ]
  },
  {
   "cell_type": "code",
   "execution_count": 2,
   "metadata": {},
   "outputs": [
    {
     "name": "stdout",
     "output_type": "stream",
     "text": [
      "Identified 1081 files to remap to healpix and save to zarr.\n"
     ]
    }
   ],
   "source": [
    "dataloc = Path(\"/glade/campaign/mmm/wmr/skamaroc/NSC_2023/3.75km_simulation_output_old_transport\")\n",
    "\n",
    "# all 3hr files:\n",
    "# datafils = sorted(dataloc.glob(\"DYAMOND_diag_3h.3.75km.*.nc\")) # note: 70GB per file\n",
    "\n",
    "# subset of 1hr files:\n",
    "datafils = sorted(dataloc.glob(\"DYAMOND_diag_1h.3.75km.*.nc\")) # note: 4.4GB per file\n",
    "\n",
    "print(f\"Identified {len(datafils)} files to remap to healpix and save to zarr.\")\n"
   ]
  },
  {
   "cell_type": "code",
   "execution_count": 5,
   "metadata": {},
   "outputs": [
    {
     "name": "stdout",
     "output_type": "stream",
     "text": [
      "All files processed. Resubmit set to FALSE.\n"
     ]
    }
   ],
   "source": [
    "oloc = Path(\"/glade/derecho/scratch/digital-earths-hackathon/mpas_DYAMOND3/1hr\")\n",
    "out_prefix = \"DYAMOND_diag_1h\"\n",
    "\n",
    "tracking_file = oloc / f\"{out_prefix}_processed_files.txt\"\n",
    "\n",
    "# Do another check to see if we should resubmit\n",
    "# Resubmit FALSE if all datafils have been processed\n",
    "with open(tracking_file, 'r') as f:\n",
    "    tracked_files = set(line.strip() for line in f)\n",
    "if len(tracked_files) == len(datafils):\n",
    "    print(\"All files processed. Resubmit set to FALSE.\")\n",
    "else:\n",
    "    print(\"Not all files processed. Resubmit set to TRUE.\")"
   ]
  }
 ],
 "metadata": {
  "kernelspec": {
   "display_name": "p12",
   "language": "python",
   "name": "python3"
  },
  "language_info": {
   "codemirror_mode": {
    "name": "ipython",
    "version": 3
   },
   "file_extension": ".py",
   "mimetype": "text/x-python",
   "name": "python",
   "nbconvert_exporter": "python",
   "pygments_lexer": "ipython3",
   "version": "3.12.3"
  }
 },
 "nbformat": 4,
 "nbformat_minor": 2
}
