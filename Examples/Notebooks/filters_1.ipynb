{
 "cells": [
  {
   "cell_type": "code",
   "execution_count": 7,
   "metadata": {},
   "outputs": [],
   "source": [
    "import numpy as np\n",
    "import xarray as xr\n",
    "import matplotlib.pyplot as plt"
   ]
  },
  {
   "cell_type": "code",
   "execution_count": 16,
   "metadata": {},
   "outputs": [],
   "source": [
    "ds = xr.open_dataset(\"/Volumes/Alsakan/hoth_archive/old_documents_12-01-2018/NCL_SOURCE/ncl_ncarg-6.2.0/ni/src/examples/data/cdf/chi200_ud_smooth.nc\", decode_times=False)"
   ]
  },
  {
   "cell_type": "code",
   "execution_count": 17,
   "metadata": {},
   "outputs": [
    {
     "data": {
      "text/plain": [
       "<xarray.Dataset>\n",
       "Dimensions:  (lat: 64, lon: 128, time: 182)\n",
       "Coordinates:\n",
       "  * lat      (lat) float32 -87.8638 -85.09653 -82.31291 ... 85.09653 87.8638\n",
       "  * lon      (lon) float32 0.0 2.8125 5.625 8.4375 ... 351.5625 354.375 357.1875\n",
       "  * time     (time) float64 0.0 1.0 2.0 3.0 4.0 ... 178.0 179.0 180.0 181.0\n",
       "Data variables:\n",
       "    gw       (lat) float32 ...\n",
       "    date     (time) float64 ...\n",
       "    CHI      (time, lon) float32 ...\n",
       "Attributes:\n",
       "    title:    Time Filtered CHI for Hovmueller Demo\n",
       "    source:   /fs/cgd/home0/shea/ncld/hovmu/chi2chiFilternc.ncl"
      ]
     },
     "execution_count": 17,
     "metadata": {},
     "output_type": "execute_result"
    }
   ],
   "source": [
    "ds"
   ]
  },
  {
   "cell_type": "code",
   "execution_count": 48,
   "metadata": {},
   "outputs": [],
   "source": [
    "# same as in indices_nino_1.ipynb\n",
    "def printVarSummary(da):\n",
    "    n = da.name\n",
    "    if hasattr(da, 'units'):\n",
    "        u = da.units\n",
    "    else:\n",
    "        u = None\n",
    "    if hasattr(da, 'long_name'):\n",
    "        lng = da.long_name\n",
    "    else:\n",
    "        lng = \"NO LONG NAME\"\n",
    "    c = []\n",
    "    for i in da.dims:\n",
    "        if i in da.coords:\n",
    "            c.append(f\"\\t dim: {i} with coordinate of shape {da.coords[i].shape}\")\n",
    "        else:\n",
    "            c.append(f\"\\t dim: {i} with no coordinate variable\")\n",
    "    mn = da.min().values.item()\n",
    "    mx = da.max().values.item()\n",
    "    print(f\"{n} ({u})\\n  {lng}\\n  minimum: {mn}\\n  maximum: {mx}\")\n",
    "    for i in c:\n",
    "        print(i)\n",
    "\n",
    "\n"
   ]
  },
  {
   "cell_type": "code",
   "execution_count": 52,
   "metadata": {},
   "outputs": [
    {
     "name": "stdout",
     "output_type": "stream",
     "text": [
      "CHI (None)\n",
      "  NO LONG NAME\n",
      "  minimum: -8.177284240722656\n",
      "  maximum: 10.425189018249512\n",
      "\t dim: time with coordinate of shape (182,)\n",
      "\t dim: lon with coordinate of shape (128,)\n",
      "[0.04166667 0.125      0.20833333 0.25       0.20833333 0.125\n",
      " 0.04166667]\n",
      "None (None)\n",
      "  NO LONG NAME\n",
      "  minimum: -7.98805848757426\n",
      "  maximum: 9.950583299001059\n",
      "\t dim: time with coordinate of shape (182,)\n",
      "\t dim: lon with coordinate of shape (128,)\n"
     ]
    }
   ],
   "source": [
    "scale = 1.e6                                     # create scale factor\n",
    "tmp   = ds['CHI']                                # get chi\n",
    "tmp   = tmp/scale                                # scale for convenience\n",
    "printVarSummary(tmp)\n",
    "#===============================\n",
    "# filter over time dimension\n",
    "#===============================\n",
    "wgt  = np.array([1., 3., 5., 6., 5., 3., 1.])            # weights\n",
    "wgt  = wgt/sum(wgt)                              # normalize wgts\n",
    "print(wgt)\n",
    "wgt = xr.DataArray(wgt, dims=['window'])\n",
    "\n",
    "#===============================\n",
    "# return variable to original dimension  order for plotting\n",
    "#===============================\n",
    "#chov      = yhov(time|:,lon|:)                   # move to 2D array for plot\n",
    "#chov&time = tmp&time                                # set coordinate\n",
    "#chov&lon  = tmp&lon\n",
    "#copy_VarAtts(tmp,chov)                           # copy attributes\n"
   ]
  },
  {
   "cell_type": "markdown",
   "metadata": {},
   "source": [
    "# Filter: weighted rolling average\n",
    "\n",
    "We are applying `wgt` to the data along the time dimension as a weighed rolling average. That essentially means that the solution at some time, `t` should be\n",
    "\n",
    "\\begin{equation}\n",
    "y(t) = \\sum_{i = t-(m/2)}^{i = t + (m/2)} w_i x_i\n",
    "\\end{equation}\n",
    "\n",
    "where $m$ is the size of the filter (`len(wgt)`). And I'm assuming normalized weights, so $\\sum_i w_i = 1$.\n",
    "\n",
    "\n",
    "## methods\n",
    "\n",
    "There are numerous ways to do this operation. I will show three of them in the next cell that all give the same answer. Really, I think these all actually boil down to even running the same underlying code, or nearly so. The first uses just xarray; it makes the rolling object that is then operated on with construct and the dot product with `wgt`. I find this method to be a little hard to write and to understand. The other two methods use numpy's convolve function. The complication is that convolve works only on 1D arrays, so we have to loop over all the longitudes. The first approach uses `apply_along_axis`  and an anonymous function (`lambda`) to do that. The second approach (commented) uses a loop over longitudes to do the same operation. The two approaches give the same answer because they do the same convolution, but the first one is faster.\n",
    "\n",
    "The xarray version keeps the coordinates in the result, but the numpy ways both result in a plain numpy array. So I show how to copy the coordinate information from the original array to the result."
   ]
  },
  {
   "cell_type": "code",
   "execution_count": 91,
   "metadata": {},
   "outputs": [
    {
     "name": "stdout",
     "output_type": "stream",
     "text": [
      "None (None)\n",
      "  NO LONG NAME\n",
      "  minimum: -7.873470683892568\n",
      "  maximum: 9.543959220250448\n",
      "\t dim: time with coordinate of shape (182,)\n",
      "\t dim: lon with coordinate of shape (128,)\n",
      "CHI (None)\n",
      "  smoothed CHI\n",
      "  minimum: -7.873470683892568\n",
      "  maximum: 9.543959220250448\n",
      "\t dim: time with coordinate of shape (182,)\n",
      "\t dim: lon with coordinate of shape (128,)\n",
      "CPU times: user 18.6 ms, sys: 1.36 ms, total: 19.9 ms\n",
      "Wall time: 18.9 ms\n"
     ]
    }
   ],
   "source": [
    "%%time\n",
    "\n",
    "#\n",
    "# Apply weighed rolling mean with xarray:\n",
    "#\n",
    "yhov0 = tmp.rolling(time=len(wgt), center=True).construct(\"window\").dot(wgt)\n",
    "printVarSummary(yhov0)\n",
    "\n",
    "#\n",
    "# using numpy only\n",
    "#\n",
    "yhov_np = np.apply_along_axis(lambda m: np.convolve(m, wgt, mode='same'), axis=0, arr=tmp)\n",
    "\n",
    "# Equivalent to this loop (but a bit faster):\n",
    "# yhov_np = np.zeros(tmp.shape)\n",
    "# for x in range(len(tmp.lon)):\n",
    "#     yhov_np[:,x] = np.convolve(tmp[:,x].values, wgt.values, mode='same')\n",
    "\n",
    "f\"Min: {np.nanmin(yhov_np)}, Max: {np.nanmax(yhov_np)}\" # Matches NCL values\n",
    "\n",
    "# copy coordinates from tmp:\n",
    "yhov = xr.DataArray(yhov_np, dims=tmp.dims, coords=tmp.coords)\n",
    "yhov.name = \"CHI\"\n",
    "yhov.attrs[\"long_name\"] = \"smoothed CHI\"\n",
    "printVarSummary(yhov)"
   ]
  },
  {
   "cell_type": "code",
   "execution_count": 96,
   "metadata": {},
   "outputs": [
    {
     "data": {
      "image/png": "[encoded data removed]",
      "text/plain": [
       "<Figure size 432x576 with 2 Axes>"
      ]
     },
     "metadata": {
      "needs_background": "light"
     },
     "output_type": "display_data"
    }
   ],
   "source": [
    "#\n",
    "# create plot (mimic the NCL one)\n",
    "#\n",
    "fig, ax = plt.subplots(figsize=(6,8))\n",
    "\n",
    "ax.set_title(\"Pacific Region\")\n",
    "levels = np.arange(-10, 12, 2)\n",
    "cnFillPalette        = \"bwr\"\n",
    "ax.set_yticks([0. ,  30.,  61.,   89., 120., 150.])\n",
    "ax.set_yticklabels([\"DEC\",\"JAN\",\"FEB\",\"MAR\" ,\"APR\",\"MAY\"])\n",
    "ax.invert_yaxis()\n",
    "\n",
    "\n",
    "meshlon, meshtime = np.meshgrid(yhov0['lon'].sel(lon=slice(100,220)).values, yhov0['time'].values, )\n",
    "img = ax.contourf(meshlon, meshtime, yhov0.sel(lon=slice(100,220)), cmap=cnFillPalette, levels=levels) \n",
    "\n",
    "fig.colorbar(img, orientation='horizontal')\n",
    "\n",
    "fig.savefig(\"../../docs/assets/filters_1_py.png\")"
   ]
  },
  {
   "cell_type": "code",
   "execution_count": null,
   "metadata": {},
   "outputs": [],
   "source": []
  }
 ],
 "metadata": {
  "kernelspec": {
   "display_name": "Python 3",
   "language": "python",
   "name": "python3"
  },
  "language_info": {
   "codemirror_mode": {
    "name": "ipython",
    "version": 3
   },
   "file_extension": ".py",
   "mimetype": "text/x-python",
   "name": "python",
   "nbconvert_exporter": "python",
   "pygments_lexer": "ipython3",
   "version": "3.7.3"
  }
 },
 "nbformat": 4,
 "nbformat_minor": 4
}
